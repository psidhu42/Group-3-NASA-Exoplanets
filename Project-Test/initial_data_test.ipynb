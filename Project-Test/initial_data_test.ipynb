{
 "cells": [
  {
   "cell_type": "code",
   "execution_count": 4,
   "id": "ca4d4f47",
   "metadata": {},
   "outputs": [],
   "source": [
    "# Import dependencies:\n",
    "import numpy as np\n",
    "import pandas as pd\n",
    "from pathlib import Path\n",
    "import matplotlib.pyplot as plt\n",
    "from sklearn.metrics import accuracy_score\n",
    "from sklearn.linear_model import LogisticRegression\n",
    "from sklearn.model_selection import train_test_split\n",
    "\n",
    "\n",
    "#from imblearn.ensemble import BalancedRandomForestClassifier\n",
    "#from sklearn.metrics import balanced_accuracy_score\n",
    "#from imblearn.metrics import classification_report_imbalanced\n",
    "#from imblearn.ensemble import EasyEnsembleClassifier"
   ]
  },
  {
   "cell_type": "code",
   "execution_count": 5,
   "id": "034e2913",
   "metadata": {},
   "outputs": [
    {
     "name": "stdout",
     "output_type": "stream",
     "text": [
      "(9564, 141)\n"
     ]
    },
    {
     "data": {
      "text/html": [
       "<div>\n",
       "<style scoped>\n",
       "    .dataframe tbody tr th:only-of-type {\n",
       "        vertical-align: middle;\n",
       "    }\n",
       "\n",
       "    .dataframe tbody tr th {\n",
       "        vertical-align: top;\n",
       "    }\n",
       "\n",
       "    .dataframe thead th {\n",
       "        text-align: right;\n",
       "    }\n",
       "</style>\n",
       "<table border=\"1\" class=\"dataframe\">\n",
       "  <thead>\n",
       "    <tr style=\"text-align: right;\">\n",
       "      <th></th>\n",
       "      <th>rowid</th>\n",
       "      <th>kepid</th>\n",
       "      <th>kepoi_name</th>\n",
       "      <th>kepler_name</th>\n",
       "      <th>koi_disposition</th>\n",
       "      <th>koi_vet_stat</th>\n",
       "      <th>koi_vet_date</th>\n",
       "      <th>koi_pdisposition</th>\n",
       "      <th>koi_score</th>\n",
       "      <th>koi_fpflag_nt</th>\n",
       "      <th>...</th>\n",
       "      <th>koi_dicco_mdec</th>\n",
       "      <th>koi_dicco_mdec_err</th>\n",
       "      <th>koi_dicco_msky</th>\n",
       "      <th>koi_dicco_msky_err</th>\n",
       "      <th>koi_dikco_mra</th>\n",
       "      <th>koi_dikco_mra_err</th>\n",
       "      <th>koi_dikco_mdec</th>\n",
       "      <th>koi_dikco_mdec_err</th>\n",
       "      <th>koi_dikco_msky</th>\n",
       "      <th>koi_dikco_msky_err</th>\n",
       "    </tr>\n",
       "  </thead>\n",
       "  <tbody>\n",
       "    <tr>\n",
       "      <th>0</th>\n",
       "      <td>1</td>\n",
       "      <td>10797460</td>\n",
       "      <td>K00752.01</td>\n",
       "      <td>Kepler-227 b</td>\n",
       "      <td>CONFIRMED</td>\n",
       "      <td>Done</td>\n",
       "      <td>8/16/2018</td>\n",
       "      <td>CANDIDATE</td>\n",
       "      <td>1.000</td>\n",
       "      <td>0</td>\n",
       "      <td>...</td>\n",
       "      <td>0.200</td>\n",
       "      <td>0.160</td>\n",
       "      <td>0.200</td>\n",
       "      <td>0.170</td>\n",
       "      <td>0.080</td>\n",
       "      <td>0.130</td>\n",
       "      <td>0.310</td>\n",
       "      <td>0.170</td>\n",
       "      <td>0.320</td>\n",
       "      <td>0.160</td>\n",
       "    </tr>\n",
       "    <tr>\n",
       "      <th>1</th>\n",
       "      <td>2</td>\n",
       "      <td>10797460</td>\n",
       "      <td>K00752.02</td>\n",
       "      <td>Kepler-227 c</td>\n",
       "      <td>CONFIRMED</td>\n",
       "      <td>Done</td>\n",
       "      <td>8/16/2018</td>\n",
       "      <td>CANDIDATE</td>\n",
       "      <td>0.969</td>\n",
       "      <td>0</td>\n",
       "      <td>...</td>\n",
       "      <td>0.000</td>\n",
       "      <td>0.480</td>\n",
       "      <td>0.390</td>\n",
       "      <td>0.360</td>\n",
       "      <td>0.490</td>\n",
       "      <td>0.340</td>\n",
       "      <td>0.120</td>\n",
       "      <td>0.730</td>\n",
       "      <td>0.500</td>\n",
       "      <td>0.450</td>\n",
       "    </tr>\n",
       "    <tr>\n",
       "      <th>2</th>\n",
       "      <td>3</td>\n",
       "      <td>10811496</td>\n",
       "      <td>K00753.01</td>\n",
       "      <td>NaN</td>\n",
       "      <td>CANDIDATE</td>\n",
       "      <td>Done</td>\n",
       "      <td>8/16/2018</td>\n",
       "      <td>CANDIDATE</td>\n",
       "      <td>0.000</td>\n",
       "      <td>0</td>\n",
       "      <td>...</td>\n",
       "      <td>-0.034</td>\n",
       "      <td>0.070</td>\n",
       "      <td>0.042</td>\n",
       "      <td>0.072</td>\n",
       "      <td>0.002</td>\n",
       "      <td>0.071</td>\n",
       "      <td>-0.027</td>\n",
       "      <td>0.074</td>\n",
       "      <td>0.027</td>\n",
       "      <td>0.074</td>\n",
       "    </tr>\n",
       "    <tr>\n",
       "      <th>3</th>\n",
       "      <td>4</td>\n",
       "      <td>10848459</td>\n",
       "      <td>K00754.01</td>\n",
       "      <td>NaN</td>\n",
       "      <td>FALSE POSITIVE</td>\n",
       "      <td>Done</td>\n",
       "      <td>8/16/2018</td>\n",
       "      <td>FALSE POSITIVE</td>\n",
       "      <td>0.000</td>\n",
       "      <td>0</td>\n",
       "      <td>...</td>\n",
       "      <td>0.147</td>\n",
       "      <td>0.078</td>\n",
       "      <td>0.289</td>\n",
       "      <td>0.079</td>\n",
       "      <td>-0.257</td>\n",
       "      <td>0.072</td>\n",
       "      <td>0.099</td>\n",
       "      <td>0.077</td>\n",
       "      <td>0.276</td>\n",
       "      <td>0.076</td>\n",
       "    </tr>\n",
       "    <tr>\n",
       "      <th>4</th>\n",
       "      <td>5</td>\n",
       "      <td>10854555</td>\n",
       "      <td>K00755.01</td>\n",
       "      <td>Kepler-664 b</td>\n",
       "      <td>CONFIRMED</td>\n",
       "      <td>Done</td>\n",
       "      <td>8/16/2018</td>\n",
       "      <td>CANDIDATE</td>\n",
       "      <td>1.000</td>\n",
       "      <td>0</td>\n",
       "      <td>...</td>\n",
       "      <td>-0.090</td>\n",
       "      <td>0.180</td>\n",
       "      <td>0.100</td>\n",
       "      <td>0.140</td>\n",
       "      <td>0.070</td>\n",
       "      <td>0.180</td>\n",
       "      <td>0.020</td>\n",
       "      <td>0.160</td>\n",
       "      <td>0.070</td>\n",
       "      <td>0.200</td>\n",
       "    </tr>\n",
       "  </tbody>\n",
       "</table>\n",
       "<p>5 rows × 141 columns</p>\n",
       "</div>"
      ],
      "text/plain": [
       "   rowid     kepid kepoi_name   kepler_name koi_disposition koi_vet_stat  \\\n",
       "0      1  10797460  K00752.01  Kepler-227 b       CONFIRMED         Done   \n",
       "1      2  10797460  K00752.02  Kepler-227 c       CONFIRMED         Done   \n",
       "2      3  10811496  K00753.01           NaN       CANDIDATE         Done   \n",
       "3      4  10848459  K00754.01           NaN  FALSE POSITIVE         Done   \n",
       "4      5  10854555  K00755.01  Kepler-664 b       CONFIRMED         Done   \n",
       "\n",
       "  koi_vet_date koi_pdisposition  koi_score  koi_fpflag_nt  ...  \\\n",
       "0    8/16/2018        CANDIDATE      1.000              0  ...   \n",
       "1    8/16/2018        CANDIDATE      0.969              0  ...   \n",
       "2    8/16/2018        CANDIDATE      0.000              0  ...   \n",
       "3    8/16/2018   FALSE POSITIVE      0.000              0  ...   \n",
       "4    8/16/2018        CANDIDATE      1.000              0  ...   \n",
       "\n",
       "   koi_dicco_mdec  koi_dicco_mdec_err  koi_dicco_msky koi_dicco_msky_err  \\\n",
       "0           0.200               0.160           0.200              0.170   \n",
       "1           0.000               0.480           0.390              0.360   \n",
       "2          -0.034               0.070           0.042              0.072   \n",
       "3           0.147               0.078           0.289              0.079   \n",
       "4          -0.090               0.180           0.100              0.140   \n",
       "\n",
       "  koi_dikco_mra  koi_dikco_mra_err  koi_dikco_mdec  koi_dikco_mdec_err  \\\n",
       "0         0.080              0.130           0.310               0.170   \n",
       "1         0.490              0.340           0.120               0.730   \n",
       "2         0.002              0.071          -0.027               0.074   \n",
       "3        -0.257              0.072           0.099               0.077   \n",
       "4         0.070              0.180           0.020               0.160   \n",
       "\n",
       "   koi_dikco_msky  koi_dikco_msky_err  \n",
       "0           0.320               0.160  \n",
       "1           0.500               0.450  \n",
       "2           0.027               0.074  \n",
       "3           0.276               0.076  \n",
       "4           0.070               0.200  \n",
       "\n",
       "[5 rows x 141 columns]"
      ]
     },
     "execution_count": 5,
     "metadata": {},
     "output_type": "execute_result"
    }
   ],
   "source": [
    "# Load the data:\n",
    "file_path = Path(\"../data/KEPLER_DATASET.csv\")\n",
    "exoplanet_df = pd.read_csv(file_path)\n",
    "\n",
    "# Drop the null columns where all values are null:\n",
    "#exoplanet_df = exoplanet_df.dropna(axis='columns', how='all')\n",
    "\n",
    "# Drop the null rows:\n",
    "#exoplanet_df = exoplanet_df.dropna()\n",
    "\n",
    "print(exoplanet_df.shape)\n",
    "exoplanet_df.head()"
   ]
  },
  {
   "cell_type": "code",
   "execution_count": 7,
   "id": "74574774",
   "metadata": {},
   "outputs": [],
   "source": [
    "\n",
    "#exoplanet_df['sy_pnum'].value_counts()"
   ]
  },
  {
   "cell_type": "code",
   "execution_count": 8,
   "id": "7df4be1e",
   "metadata": {},
   "outputs": [
    {
     "data": {
      "text/plain": [
       "FALSE POSITIVE    4839\n",
       "CONFIRMED         2669\n",
       "CANDIDATE         2056\n",
       "Name: koi_disposition, dtype: int64"
      ]
     },
     "execution_count": 8,
     "metadata": {},
     "output_type": "execute_result"
    }
   ],
   "source": [
    "# Count distinct values in \"soltype\" column:\n",
    "exoplanet_df['koi_disposition'].value_counts()"
   ]
  },
  {
   "cell_type": "code",
   "execution_count": 9,
   "id": "29b74a3c",
   "metadata": {},
   "outputs": [
    {
     "ename": "KeyError",
     "evalue": "\"['sy_snum', 'sy_pnum', 'pl_orbper', 'pl_rade', 'pl_eqt', 'st_teff', 'st_rad', 'st_mass', 'st_logg'] not in index\"",
     "output_type": "error",
     "traceback": [
      "\u001b[1;31m---------------------------------------------------------------------------\u001b[0m",
      "\u001b[1;31mKeyError\u001b[0m                                  Traceback (most recent call last)",
      "\u001b[1;32m~\\AppData\\Local\\Temp\\ipykernel_30248\\1744069055.py\u001b[0m in \u001b[0;36m<module>\u001b[1;34m\u001b[0m\n\u001b[0;32m      2\u001b[0m new_exoplanet_df = exoplanet_df[[\"sy_snum\", \"sy_pnum\",\n\u001b[0;32m      3\u001b[0m                                  \u001b[1;34m\"pl_orbper\"\u001b[0m\u001b[1;33m,\u001b[0m \u001b[1;34m\"pl_rade\"\u001b[0m\u001b[1;33m,\u001b[0m \u001b[1;34m\"koi_disposition\"\u001b[0m\u001b[1;33m,\u001b[0m \u001b[1;34m\"pl_eqt\"\u001b[0m\u001b[1;33m,\u001b[0m\u001b[1;33m\u001b[0m\u001b[1;33m\u001b[0m\u001b[0m\n\u001b[1;32m----> 4\u001b[1;33m                                  \"st_teff\", \"st_rad\", \"st_mass\", \"st_logg\"]]\n\u001b[0m\u001b[0;32m      5\u001b[0m \u001b[1;33m\u001b[0m\u001b[0m\n\u001b[0;32m      6\u001b[0m \u001b[1;33m\u001b[0m\u001b[0m\n",
      "\u001b[1;32m~\\anaconda3\\envs\\mlenv\\lib\\site-packages\\pandas\\core\\frame.py\u001b[0m in \u001b[0;36m__getitem__\u001b[1;34m(self, key)\u001b[0m\n\u001b[0;32m   3462\u001b[0m             \u001b[1;32mif\u001b[0m \u001b[0mis_iterator\u001b[0m\u001b[1;33m(\u001b[0m\u001b[0mkey\u001b[0m\u001b[1;33m)\u001b[0m\u001b[1;33m:\u001b[0m\u001b[1;33m\u001b[0m\u001b[1;33m\u001b[0m\u001b[0m\n\u001b[0;32m   3463\u001b[0m                 \u001b[0mkey\u001b[0m \u001b[1;33m=\u001b[0m \u001b[0mlist\u001b[0m\u001b[1;33m(\u001b[0m\u001b[0mkey\u001b[0m\u001b[1;33m)\u001b[0m\u001b[1;33m\u001b[0m\u001b[1;33m\u001b[0m\u001b[0m\n\u001b[1;32m-> 3464\u001b[1;33m             \u001b[0mindexer\u001b[0m \u001b[1;33m=\u001b[0m \u001b[0mself\u001b[0m\u001b[1;33m.\u001b[0m\u001b[0mloc\u001b[0m\u001b[1;33m.\u001b[0m\u001b[0m_get_listlike_indexer\u001b[0m\u001b[1;33m(\u001b[0m\u001b[0mkey\u001b[0m\u001b[1;33m,\u001b[0m \u001b[0maxis\u001b[0m\u001b[1;33m=\u001b[0m\u001b[1;36m1\u001b[0m\u001b[1;33m)\u001b[0m\u001b[1;33m[\u001b[0m\u001b[1;36m1\u001b[0m\u001b[1;33m]\u001b[0m\u001b[1;33m\u001b[0m\u001b[1;33m\u001b[0m\u001b[0m\n\u001b[0m\u001b[0;32m   3465\u001b[0m \u001b[1;33m\u001b[0m\u001b[0m\n\u001b[0;32m   3466\u001b[0m         \u001b[1;31m# take() does not accept boolean indexers\u001b[0m\u001b[1;33m\u001b[0m\u001b[1;33m\u001b[0m\u001b[1;33m\u001b[0m\u001b[0m\n",
      "\u001b[1;32m~\\anaconda3\\envs\\mlenv\\lib\\site-packages\\pandas\\core\\indexing.py\u001b[0m in \u001b[0;36m_get_listlike_indexer\u001b[1;34m(self, key, axis)\u001b[0m\n\u001b[0;32m   1312\u001b[0m             \u001b[0mkeyarr\u001b[0m\u001b[1;33m,\u001b[0m \u001b[0mindexer\u001b[0m\u001b[1;33m,\u001b[0m \u001b[0mnew_indexer\u001b[0m \u001b[1;33m=\u001b[0m \u001b[0max\u001b[0m\u001b[1;33m.\u001b[0m\u001b[0m_reindex_non_unique\u001b[0m\u001b[1;33m(\u001b[0m\u001b[0mkeyarr\u001b[0m\u001b[1;33m)\u001b[0m\u001b[1;33m\u001b[0m\u001b[1;33m\u001b[0m\u001b[0m\n\u001b[0;32m   1313\u001b[0m \u001b[1;33m\u001b[0m\u001b[0m\n\u001b[1;32m-> 1314\u001b[1;33m         \u001b[0mself\u001b[0m\u001b[1;33m.\u001b[0m\u001b[0m_validate_read_indexer\u001b[0m\u001b[1;33m(\u001b[0m\u001b[0mkeyarr\u001b[0m\u001b[1;33m,\u001b[0m \u001b[0mindexer\u001b[0m\u001b[1;33m,\u001b[0m \u001b[0maxis\u001b[0m\u001b[1;33m)\u001b[0m\u001b[1;33m\u001b[0m\u001b[1;33m\u001b[0m\u001b[0m\n\u001b[0m\u001b[0;32m   1315\u001b[0m \u001b[1;33m\u001b[0m\u001b[0m\n\u001b[0;32m   1316\u001b[0m         if needs_i8_conversion(ax.dtype) or isinstance(\n",
      "\u001b[1;32m~\\anaconda3\\envs\\mlenv\\lib\\site-packages\\pandas\\core\\indexing.py\u001b[0m in \u001b[0;36m_validate_read_indexer\u001b[1;34m(self, key, indexer, axis)\u001b[0m\n\u001b[0;32m   1375\u001b[0m \u001b[1;33m\u001b[0m\u001b[0m\n\u001b[0;32m   1376\u001b[0m             \u001b[0mnot_found\u001b[0m \u001b[1;33m=\u001b[0m \u001b[0mlist\u001b[0m\u001b[1;33m(\u001b[0m\u001b[0mensure_index\u001b[0m\u001b[1;33m(\u001b[0m\u001b[0mkey\u001b[0m\u001b[1;33m)\u001b[0m\u001b[1;33m[\u001b[0m\u001b[0mmissing_mask\u001b[0m\u001b[1;33m.\u001b[0m\u001b[0mnonzero\u001b[0m\u001b[1;33m(\u001b[0m\u001b[1;33m)\u001b[0m\u001b[1;33m[\u001b[0m\u001b[1;36m0\u001b[0m\u001b[1;33m]\u001b[0m\u001b[1;33m]\u001b[0m\u001b[1;33m.\u001b[0m\u001b[0munique\u001b[0m\u001b[1;33m(\u001b[0m\u001b[1;33m)\u001b[0m\u001b[1;33m)\u001b[0m\u001b[1;33m\u001b[0m\u001b[1;33m\u001b[0m\u001b[0m\n\u001b[1;32m-> 1377\u001b[1;33m             \u001b[1;32mraise\u001b[0m \u001b[0mKeyError\u001b[0m\u001b[1;33m(\u001b[0m\u001b[1;34mf\"{not_found} not in index\"\u001b[0m\u001b[1;33m)\u001b[0m\u001b[1;33m\u001b[0m\u001b[1;33m\u001b[0m\u001b[0m\n\u001b[0m\u001b[0;32m   1378\u001b[0m \u001b[1;33m\u001b[0m\u001b[0m\n\u001b[0;32m   1379\u001b[0m \u001b[1;33m\u001b[0m\u001b[0m\n",
      "\u001b[1;31mKeyError\u001b[0m: \"['sy_snum', 'sy_pnum', 'pl_orbper', 'pl_rade', 'pl_eqt', 'st_teff', 'st_rad', 'st_mass', 'st_logg'] not in index\""
     ]
    }
   ],
   "source": [
    "# Create a new dataframe by selecting desired columns:\n",
    "new_exoplanet_df = exoplanet_df[[\"sy_snum\", \"sy_pnum\",\n",
    "                                 \"pl_orbper\", \"pl_rade\", \"koi_disposition\", \"pl_eqt\", \n",
    "                                 \"st_teff\", \"st_rad\", \"st_mass\", \"st_logg\"]]\n",
    "\n",
    "\n",
    "print(new_exoplanet_df.shape)\n",
    "new_exoplanet_df.head()"
   ]
  },
  {
   "cell_type": "code",
   "execution_count": null,
   "id": "3b30e8eb",
   "metadata": {},
   "outputs": [],
   "source": [
    "# Dropna from new dataframe:\n",
    "new_exoplanet_df= new_exoplanet_df.dropna()\n",
    "print(new_exoplanet_df.shape)\n",
    "new_exoplanet_df.head()"
   ]
  },
  {
   "cell_type": "code",
   "execution_count": null,
   "id": "b48197cc",
   "metadata": {},
   "outputs": [],
   "source": [
    "# Drop duplicates:\n",
    "new_exoplanet_df = new_exoplanet_df.drop_duplicates()\n",
    "print(new_exoplanet_df.shape)\n",
    "new_exoplanet_df.head()"
   ]
  },
  {
   "cell_type": "code",
   "execution_count": null,
   "id": "b11dcd46",
   "metadata": {},
   "outputs": [],
   "source": [
    "# Count distinct values in \"soltype\" column\n",
    "new_exoplanet_df['soltype'].value_counts()"
   ]
  },
  {
   "cell_type": "code",
   "execution_count": null,
   "id": "ad9b84cd",
   "metadata": {},
   "outputs": [],
   "source": [
    "# Drop planets with more than 1 star:\n",
    "new_exoplanet_df.drop(new_exoplanet_df.index[new_exoplanet_df['sy_snum'] > 1], inplace=True)\n",
    "print(new_exoplanet_df.shape)\n",
    "new_exoplanet_df.head()"
   ]
  },
  {
   "cell_type": "code",
   "execution_count": null,
   "id": "d9128db0",
   "metadata": {},
   "outputs": [],
   "source": [
    "# Drop the \"sy_snum\" column as it now only has 1 unique value:\n",
    "clean_exoplanet_df = new_exoplanet_df.drop(columns=['sy_snum'])\n",
    "print(clean_exoplanet_df.shape)\n",
    "clean_exoplanet_df.head()"
   ]
  },
  {
   "cell_type": "code",
   "execution_count": null,
   "id": "663e6936",
   "metadata": {},
   "outputs": [],
   "source": [
    "#\n",
    "clean_exoplanet_df['soltype'].value_counts()"
   ]
  },
  {
   "cell_type": "code",
   "execution_count": null,
   "id": "3da9be86",
   "metadata": {},
   "outputs": [],
   "source": [
    "# Replace values in 'soltype' with 1 or 0:\n",
    "\n",
    "clean_exoplanet_df['soltype'].replace('Published Confirmed', 1, inplace=True)\n",
    "clean_exoplanet_df[clean_exoplanet_df['soltype'] != 1] = 0 \n",
    "clean_exoplanet_df"
   ]
  },
  {
   "cell_type": "code",
   "execution_count": null,
   "id": "1227bd12",
   "metadata": {},
   "outputs": [],
   "source": [
    "clean_exoplanet_df['soltype'].value_counts()"
   ]
  },
  {
   "cell_type": "code",
   "execution_count": null,
   "id": "ce6cb7ef",
   "metadata": {},
   "outputs": [],
   "source": [
    "clean_exoplanet_df['soltype'] = clean_exoplanet_df['soltype'].astype(str).astype(int)"
   ]
  },
  {
   "cell_type": "code",
   "execution_count": null,
   "id": "5591d186",
   "metadata": {},
   "outputs": [],
   "source": [
    "clean_exoplanet_df.columns = ['Number of Planets',\n",
    "                              'Planet Orbit', 'Planet Radius', 'Planet Status', 'Equalibrium Temp',\n",
    "                              'Star Temp', 'Star Radius', 'Star Mass', 'Star Gravity']\n",
    "\n",
    "clean_exoplanet_df.head()"
   ]
  },
  {
   "cell_type": "code",
   "execution_count": null,
   "id": "1cb2bfea",
   "metadata": {},
   "outputs": [],
   "source": [
    "#clean_exoplanet_df['Number of Planets'].value_counts()"
   ]
  },
  {
   "cell_type": "code",
   "execution_count": null,
   "id": "795c03e4",
   "metadata": {},
   "outputs": [],
   "source": [
    "# Export the Dataframe as a new CSV file without the index.\n",
    "#clean_exoplanet_df.to_csv(\"clean_exoplanet_df.csv\", index=False)\n",
    "clean_exoplanet_df.dtypes"
   ]
  },
  {
   "cell_type": "markdown",
   "id": "fba17aa9",
   "metadata": {},
   "source": [
    "# Mockup/ Draft Model\n",
    "# Split the Data into Training and Testing"
   ]
  },
  {
   "cell_type": "markdown",
   "id": "0bbca6dc",
   "metadata": {},
   "source": [
    "### Create a Supervised Machine Learning model, use Logistic Regression // classification 1 or 0."
   ]
  },
  {
   "cell_type": "code",
   "execution_count": null,
   "id": "913b803a",
   "metadata": {},
   "outputs": [],
   "source": [
    "# Create our features:\n",
    "X = clean_exoplanet_df.drop(\"Planet Status\", axis=1)\n",
    "\n",
    "# Create our target:\n",
    "y = clean_exoplanet_df[\"Planet Status\"]"
   ]
  },
  {
   "cell_type": "code",
   "execution_count": null,
   "id": "0af1511c",
   "metadata": {},
   "outputs": [],
   "source": [
    "# Split into Train and Test Sets:\n",
    "X_train, X_test, y_train, y_test = train_test_split(X, y, random_state=1, test_size= 0.33)"
   ]
  },
  {
   "cell_type": "code",
   "execution_count": null,
   "id": "3c3e4b90",
   "metadata": {},
   "outputs": [],
   "source": [
    "# Train the model:\n",
    "lm = LogisticRegression()\n",
    "lm.fit(X_train, y_train)"
   ]
  },
  {
   "cell_type": "code",
   "execution_count": null,
   "id": "8086486b",
   "metadata": {},
   "outputs": [],
   "source": [
    "# Validate the model:\n",
    "from sklearn.metrics import classification_report\n",
    "\n",
    "predict = lm.predict(X_test)\n",
    "\n",
    "with np.printoptions(threshold=np.inf):\n",
    "    print(predict)"
   ]
  },
  {
   "cell_type": "code",
   "execution_count": null,
   "id": "c3d6ff22",
   "metadata": {},
   "outputs": [],
   "source": [
    "#predictions = lm.predict(X_test)\n",
    "t1 = pd.DataFrame({\"Prediction\": predict, \"Actual\": y_test})\n",
    "t1\n",
    "#t1.nunique().value_counts()\n"
   ]
  },
  {
   "cell_type": "code",
   "execution_count": null,
   "id": "4c6ecbbe",
   "metadata": {},
   "outputs": [],
   "source": [
    "#t1['Actual'].value_counts()"
   ]
  },
  {
   "cell_type": "code",
   "execution_count": null,
   "id": "e53ca6d5",
   "metadata": {
    "scrolled": true
   },
   "outputs": [],
   "source": [
    "print(classification_report(y_test, predict))"
   ]
  },
  {
   "cell_type": "code",
   "execution_count": null,
   "id": "02fcaafc",
   "metadata": {},
   "outputs": [],
   "source": []
  },
  {
   "cell_type": "code",
   "execution_count": null,
   "id": "0ee52184",
   "metadata": {},
   "outputs": [],
   "source": []
  },
  {
   "cell_type": "code",
   "execution_count": null,
   "id": "b612f45a",
   "metadata": {},
   "outputs": [],
   "source": []
  }
 ],
 "metadata": {
  "kernelspec": {
   "display_name": "mlenv",
   "language": "python",
   "name": "mlenv"
  },
  "language_info": {
   "codemirror_mode": {
    "name": "ipython",
    "version": 3
   },
   "file_extension": ".py",
   "mimetype": "text/x-python",
   "name": "python",
   "nbconvert_exporter": "python",
   "pygments_lexer": "ipython3",
   "version": "3.7.13"
  }
 },
 "nbformat": 4,
 "nbformat_minor": 5
}
