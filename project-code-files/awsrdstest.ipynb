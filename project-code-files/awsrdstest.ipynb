{
 "cells": [
  {
   "cell_type": "code",
   "execution_count": 1,
   "id": "eea090fb",
   "metadata": {},
   "outputs": [
    {
     "name": "stdout",
     "output_type": "stream",
     "text": [
      "Connected!\n"
     ]
    }
   ],
   "source": [
    "import os\n",
    "import psycopg2 as pg\n",
    "import pandas as pd\n",
    "import config as creds\n",
    "\n",
    "\n",
    "conn_string = \"host=\"+ creds.PGHOST +\" port=\"+ \"5432\" +\" dbname=\"+ creds.PGDATABASE +\" user=\" + creds.PGUSER \\\n",
    "                  +\" password=\"+ creds.PGPASSWORD\n",
    "    \n",
    "conn = pg.connect(conn_string)\n",
    "print(\"Connected!\")"
   ]
  },
  {
   "cell_type": "code",
   "execution_count": 2,
   "id": "5a38cf2b",
   "metadata": {},
   "outputs": [
    {
     "name": "stdout",
     "output_type": "stream",
     "text": [
      "(9201, 10)\n"
     ]
    },
    {
     "data": {
      "text/html": [
       "<div>\n",
       "<style scoped>\n",
       "    .dataframe tbody tr th:only-of-type {\n",
       "        vertical-align: middle;\n",
       "    }\n",
       "\n",
       "    .dataframe tbody tr th {\n",
       "        vertical-align: top;\n",
       "    }\n",
       "\n",
       "    .dataframe thead th {\n",
       "        text-align: right;\n",
       "    }\n",
       "</style>\n",
       "<table border=\"1\" class=\"dataframe\">\n",
       "  <thead>\n",
       "    <tr style=\"text-align: right;\">\n",
       "      <th></th>\n",
       "      <th>number_of_planets</th>\n",
       "      <th>planet_radius_earth</th>\n",
       "      <th>equalibrium_temp_k</th>\n",
       "      <th>orbit_period_days</th>\n",
       "      <th>star_radius_sun</th>\n",
       "      <th>star_temp_k</th>\n",
       "      <th>star_mass_sun</th>\n",
       "      <th>star_surface_gravity</th>\n",
       "      <th>planet_star_radius_ratio</th>\n",
       "      <th>status</th>\n",
       "    </tr>\n",
       "  </thead>\n",
       "  <tbody>\n",
       "    <tr>\n",
       "      <th>0</th>\n",
       "      <td>2</td>\n",
       "      <td>2.26</td>\n",
       "      <td>793.0</td>\n",
       "      <td>9.488036</td>\n",
       "      <td>0.927</td>\n",
       "      <td>5455.0</td>\n",
       "      <td>0.919</td>\n",
       "      <td>4.467</td>\n",
       "      <td>0.022344</td>\n",
       "      <td>1</td>\n",
       "    </tr>\n",
       "    <tr>\n",
       "      <th>1</th>\n",
       "      <td>2</td>\n",
       "      <td>2.83</td>\n",
       "      <td>443.0</td>\n",
       "      <td>54.418383</td>\n",
       "      <td>0.927</td>\n",
       "      <td>5455.0</td>\n",
       "      <td>0.919</td>\n",
       "      <td>4.467</td>\n",
       "      <td>0.027954</td>\n",
       "      <td>1</td>\n",
       "    </tr>\n",
       "    <tr>\n",
       "      <th>2</th>\n",
       "      <td>1</td>\n",
       "      <td>33.46</td>\n",
       "      <td>1395.0</td>\n",
       "      <td>1.736952</td>\n",
       "      <td>0.791</td>\n",
       "      <td>5805.0</td>\n",
       "      <td>0.836</td>\n",
       "      <td>4.564</td>\n",
       "      <td>0.387394</td>\n",
       "      <td>0</td>\n",
       "    </tr>\n",
       "    <tr>\n",
       "      <th>3</th>\n",
       "      <td>1</td>\n",
       "      <td>2.75</td>\n",
       "      <td>1406.0</td>\n",
       "      <td>2.525592</td>\n",
       "      <td>1.046</td>\n",
       "      <td>6031.0</td>\n",
       "      <td>1.095</td>\n",
       "      <td>4.438</td>\n",
       "      <td>0.024064</td>\n",
       "      <td>1</td>\n",
       "    </tr>\n",
       "    <tr>\n",
       "      <th>4</th>\n",
       "      <td>3</td>\n",
       "      <td>3.90</td>\n",
       "      <td>835.0</td>\n",
       "      <td>11.094321</td>\n",
       "      <td>0.972</td>\n",
       "      <td>6046.0</td>\n",
       "      <td>1.053</td>\n",
       "      <td>4.486</td>\n",
       "      <td>0.036779</td>\n",
       "      <td>1</td>\n",
       "    </tr>\n",
       "  </tbody>\n",
       "</table>\n",
       "</div>"
      ],
      "text/plain": [
       "   number_of_planets  planet_radius_earth  equalibrium_temp_k  \\\n",
       "0                  2                 2.26               793.0   \n",
       "1                  2                 2.83               443.0   \n",
       "2                  1                33.46              1395.0   \n",
       "3                  1                 2.75              1406.0   \n",
       "4                  3                 3.90               835.0   \n",
       "\n",
       "   orbit_period_days  star_radius_sun  star_temp_k  star_mass_sun  \\\n",
       "0           9.488036            0.927       5455.0          0.919   \n",
       "1          54.418383            0.927       5455.0          0.919   \n",
       "2           1.736952            0.791       5805.0          0.836   \n",
       "3           2.525592            1.046       6031.0          1.095   \n",
       "4          11.094321            0.972       6046.0          1.053   \n",
       "\n",
       "   star_surface_gravity  planet_star_radius_ratio  status  \n",
       "0                 4.467                  0.022344       1  \n",
       "1                 4.467                  0.027954       1  \n",
       "2                 4.564                  0.387394       0  \n",
       "3                 4.438                  0.024064       1  \n",
       "4                 4.486                  0.036779       1  "
      ]
     },
     "execution_count": 2,
     "metadata": {},
     "output_type": "execute_result"
    }
   ],
   "source": [
    "kepler_planets_df = pd.read_sql_query(\"select * from kepler_planets\", con=conn)\n",
    "print(kepler_planets_df.shape)\n",
    "kepler_planets_df.head()"
   ]
  },
  {
   "cell_type": "code",
   "execution_count": null,
   "id": "dba3b87a",
   "metadata": {},
   "outputs": [],
   "source": []
  }
 ],
 "metadata": {
  "kernelspec": {
   "display_name": "mlenv",
   "language": "python",
   "name": "mlenv"
  },
  "language_info": {
   "codemirror_mode": {
    "name": "ipython",
    "version": 3
   },
   "file_extension": ".py",
   "mimetype": "text/x-python",
   "name": "python",
   "nbconvert_exporter": "python",
   "pygments_lexer": "ipython3",
   "version": "3.7.13"
  }
 },
 "nbformat": 4,
 "nbformat_minor": 5
}
